{
  "cells": [
    {
      "cell_type": "markdown",
      "metadata": {
        "id": "w87frMXHNvpu"
      },
      "source": [
        "# ProtoNet and Visual Meta-Learning\n",
        "\n"
      ]
    },
    {
      "cell_type": "markdown",
      "metadata": {
        "id": "-BLoGVNSNvpw"
      },
      "source": [
        "In this task, you are asked to implement a model which can quickly adapt to new classes and/or tasks with few samples. We will build the architecture inspired from the work: Prototypical Networks ([Snell et al., 2017](https://arxiv.org/pdf/1703.05175.pdf))\n",
        "\n",
        "* We will focus on the task of few-shot classification where the training and test set have distinct sets of classes.\n",
        "\n",
        "* You will apply ProtoNet to the CIFAR100 and then test its performance on out-of-distribution data in the SVHN dataset.\n",
        "\n",
        "\n",
        "The task is divided into four parts that contribute to your total score as follows:\n",
        "* Dataset Preparation = 1p\n",
        "* Few-Shot Sampler = 3p\n",
        "* Prototypical Networks + Advanced Techniques = (1 + 1 + 2 + 1) = 5p\n",
        "* Domain adaptation in the SVHN experiment = 1p"
      ]
    },
    {
      "cell_type": "markdown",
      "metadata": {
        "id": "_eQXWWFBPu36"
      },
      "source": [
        "# Imports"
      ]
    },
    {
      "cell_type": "code",
      "execution_count": null,
      "metadata": {
        "colab": {
          "base_uri": "https://localhost:8080/"
        },
        "id": "uFoYYys7Nvpw",
        "outputId": "83e1ecf9-3819-4244-e36c-4d89c1dfa297"
      },
      "outputs": [],
      "source": [
        "import os\n",
        "import numpy as np\n",
        "import random\n",
        "import json\n",
        "from PIL import Image\n",
        "from collections import defaultdict\n",
        "from statistics import mean, stdev\n",
        "from copy import deepcopy\n",
        "import matplotlib.pyplot as plt\n",
        "import matplotlib\n",
        "import seaborn as sns\n",
        "from tqdm.auto import tqdm\n",
        "import torch\n",
        "import torch.nn as nn\n",
        "import torch.nn.functional as F\n",
        "import torch.utils.data as data\n",
        "import torch.optim as optim\n",
        "import torchvision\n",
        "from torchvision.datasets import CIFAR100, SVHN, MNIST\n",
        "from torchvision import transforms\n",
        "\n",
        "# Path to the folder where the datasets are/should be downloaded (e.g. CIFAR10)\n",
        "DATASET_PATH = \"./data\"\n",
        "# Path to the folder where the pretrained models are saved\n",
        "CHECKPOINT_PATH = \"./saved_models\"\n",
        "\n",
        "# Create directory if it doesn't exist\n",
        "if not os.path.exists(CHECKPOINT_PATH):\n",
        "    os.makedirs(CHECKPOINT_PATH)\n",
        "\n",
        "\n",
        "def set_seed(seed):\n",
        "    random.seed(seed)\n",
        "    np.random.seed(seed)\n",
        "    torch.manual_seed(seed)\n",
        "    torch.cuda.manual_seed(seed)\n",
        "    torch.cuda.manual_seed_all(seed)\n",
        "    torch.backends.cudnn.deterministic = True\n",
        "    torch.backends.cudnn.benchmark = False\n",
        "\n",
        "set_seed(42)\n",
        "\n",
        "device = torch.device(\"cuda:0\" if torch.cuda.is_available() else \"cpu\")\n",
        "print(\"Device:\", device)"
      ]
    },
    {
      "cell_type": "markdown",
      "metadata": {
        "id": "4H4Zm8QmNvpx"
      },
      "source": [
        "# Dataset Preparation (1p)\n",
        "\n",
        "CIFAR100 has 100 classes and images of size $32\\times 32$ pixels. Instead of splitting the training, validation, and test set over examples, we will split them over classes: we will use 80 classes for training, and 10 for validation, and 10 for testing. Our overall goal is to obtain a model that can distinguish between the 10 test classes while seeing very few examples. First, let's load the dataset and visualize some examples."
      ]
    },
    {
      "cell_type": "code",
      "execution_count": null,
      "metadata": {
        "colab": {
          "base_uri": "https://localhost:8080/",
          "height": 425
        },
        "id": "gmUIdE8nNvpy",
        "outputId": "d9c84bef-8acb-4b83-e13b-f06269b894c8"
      },
      "outputs": [],
      "source": [
        "# Load the CIFAR dataset\n",
        "CIFAR_train_set = CIFAR100(root=DATASET_PATH, train=True, download=True, transform=transforms.ToTensor())\n",
        "CIFAR_test_set = CIFAR100(root=DATASET_PATH, train=False, download=True, transform=transforms.ToTensor())\n",
        "\n",
        "# TODO: Visualise some images in a grid\n",
        "def show_images(images, num_images=16, images_per_row=4):\n",
        "    num_rows = (num_images + images_per_row - 1) // images_per_row\n",
        "    plt.figure(figsize=(4, 4))\n",
        "\n",
        "    for i in range(min(num_images, len(images))):\n",
        "        if isinstance(images, torch.utils.data.Dataset):\n",
        "            image, _ = images[i]\n",
        "        else:\n",
        "            image = images[i]\n",
        "\n",
        "        image = image.numpy()\n",
        "        image = np.transpose(image, (1, 2, 0))\n",
        "\n",
        "        plt.subplot(num_rows, images_per_row, i + 1)\n",
        "        plt.imshow(image)\n",
        "        plt.axis('off')\n",
        "\n",
        "    plt.tight_layout()\n",
        "    plt.show()\n",
        "\n",
        "show_images(CIFAR_train_set, num_images=16, images_per_row=4)"
      ]
    },
    {
      "cell_type": "markdown",
      "metadata": {
        "id": "Oqti6EZ9Qtw1"
      },
      "source": [
        "Prepare the dataset in the training, validation and test split as mentioned before. The torchvision package gives us the training and test set as two separate dataset objects. Merge the original training and test set, and then create the new train-val-test split"
      ]
    },
    {
      "cell_type": "code",
      "execution_count": null,
      "metadata": {
        "id": "AIh6ez1NNvpy"
      },
      "outputs": [],
      "source": [
        "# Merging original training and test set\n",
        "CIFAR_all_images = np.concatenate([CIFAR_train_set.data, CIFAR_test_set.data], axis=0)\n",
        "CIFAR_all_targets = torch.LongTensor(CIFAR_train_set.targets + CIFAR_test_set.targets)"
      ]
    },
    {
      "cell_type": "markdown",
      "metadata": {
        "id": "J1g9CdNqNvpy"
      },
      "source": [
        "Define our own, dataset class below.\n",
        "It needs to:\n",
        "\n",
        "- Take a set of images, labels/targets, and image transformations\n",
        "- Return the corresponding images and labels element-wise."
      ]
    },
    {
      "cell_type": "code",
      "execution_count": null,
      "metadata": {
        "id": "0OGZBp-CNvpz"
      },
      "outputs": [],
      "source": [
        "class ImageDataset(data.Dataset):\n",
        "\n",
        "    def __init__(self, imgs, targets, img_transform=None):\n",
        "        \"\"\"\n",
        "        Inputs:\n",
        "            imgs - Numpy array of shape [N,32,32,3] containing all images.\n",
        "            targets - PyTorch array of shape [N] containing all labels.\n",
        "            img_transform - A torchvision transformation that should be applied\n",
        "                            to the images before returning. If none, no transformation\n",
        "                            is applied.\n",
        "        \"\"\"\n",
        "        super().__init__()\n",
        "        self.img_transform = img_transform\n",
        "        self.imgs = imgs\n",
        "        self.targets = targets\n",
        "\n",
        "    def __getitem__(self, idx):\n",
        "        # TODO: Fill this\n",
        "        img = self.imgs[idx]\n",
        "        target = self.targets[idx]\n",
        "\n",
        "        if self.img_transform is not None:\n",
        "            img = self.img_transform(img)\n",
        "\n",
        "        return img, target\n",
        "\n",
        "\n",
        "    def __len__(self):\n",
        "        # TODO: Fill this\n",
        "        return len(self.imgs)\n"
      ]
    },
    {
      "cell_type": "markdown",
      "metadata": {
        "id": "C_e8hDifNvpz"
      },
      "source": [
        "Create the class splits. Assign the classes randomly to training, validation and test, and use a 80%-10%-10% split."
      ]
    },
    {
      "cell_type": "code",
      "execution_count": null,
      "metadata": {
        "id": "NM9oq8X5Nvpz"
      },
      "outputs": [],
      "source": [
        "classes = torch.randperm(100)  # Returns random permutation of numbers 0 to 99\n",
        "train_classes, val_classes, test_classes = classes[:80], classes[80:90], classes[90:]"
      ]
    },
    {
      "cell_type": "markdown",
      "metadata": {
        "id": "g63CdR7JNvpz"
      },
      "source": [
        "Classes have quite some variety and some classes might be easier to distinguish than others.\n",
        "\n",
        "We want to learn the classification of those ten classes from 80 other classes in our training set, and few examples from the actual test classes.\n",
        "\n",
        "\n",
        "You need to experiment with different number of examples per class.\n",
        "\n",
        "Create the training, validation and test dataset according to our split above. For this, we create dataset objects of our previously defined class `ImageDataset`."
      ]
    },
    {
      "cell_type": "code",
      "execution_count": null,
      "metadata": {
        "id": "VTFKPTLANvpz"
      },
      "outputs": [],
      "source": [
        "def dataset_from_labels(imgs, targets, class_set, img_transform):\n",
        "    # TODO: Return an ImageDataset object representing a train / val / test set.\n",
        "    # Its should use the set of all CIFAR images, targets and class split calculated above with the 80-10-10 rule.\n",
        "    class_set = list(set(class_set))\n",
        "\n",
        "    indices = [i for i, t in enumerate(targets) if int(t) in class_set]\n",
        "\n",
        "    filtered_imgs = imgs[indices]\n",
        "    filtered_targets = targets[indices]\n",
        "\n",
        "    return ImageDataset(filtered_imgs, filtered_targets, img_transform)"
      ]
    },
    {
      "cell_type": "code",
      "execution_count": null,
      "metadata": {
        "id": "6HE2YbV8Nvpz"
      },
      "outputs": [],
      "source": [
        "# Pre-computed statistics from the new train set\n",
        "DATA_MEANS = torch.Tensor([0.5183975 , 0.49192241, 0.44651328])\n",
        "DATA_STD = torch.Tensor([0.26770132, 0.25828985, 0.27961241])\n",
        "\n",
        "test_transform = transforms.Compose([transforms.ToTensor(),\n",
        "                                     transforms.Normalize(\n",
        "                                         DATA_MEANS, DATA_STD)\n",
        "                                     ])\n",
        "# For training, try adding some augmentations as well.\n",
        "train_transform = transforms.Compose([ # TODO: Fill This #\n",
        "                                      transforms.ToPILImage(),\n",
        "                                      transforms.RandomCrop(32, padding=4),\n",
        "                                      transforms.RandomHorizontalFlip(p=0.5),\n",
        "                                      transforms.RandomRotation(15),\n",
        "                                      transforms.RandomGrayscale(p=0.1),\n",
        "                                      transforms.ToTensor(),\n",
        "                                      transforms.Normalize(DATA_MEANS, DATA_STD),\n",
        "                                      ])\n",
        "\n",
        "train_set = dataset_from_labels(\n",
        "    CIFAR_all_images, CIFAR_all_targets, train_classes, img_transform=train_transform)\n",
        "val_set = dataset_from_labels(\n",
        "    CIFAR_all_images, CIFAR_all_targets, val_classes, img_transform=test_transform)\n",
        "test_set = dataset_from_labels(\n",
        "    CIFAR_all_images, CIFAR_all_targets, test_classes, img_transform=test_transform)"
      ]
    },
    {
      "cell_type": "markdown",
      "metadata": {
        "id": "WC1A4G-LNvp0"
      },
      "source": [
        "# Few-Shot Sampler (3p)\n",
        "\n",
        "## The Core Concept\n",
        "\n",
        "Prototypical Networks simulate few-shot learning during training by:\n",
        "\n",
        "1. Randomly selecting N classes (N-way classification)\n",
        "2. Sampling K examples per class for the **support set** (K-shot learning)\n",
        "3. Sampling additional examples from the same classes for the **query set**\n",
        "\n",
        "The model learns to classify query examples by comparing them to class prototypes computed from the support set.\n",
        "\n",
        "## Implementation Task\n",
        "\n",
        "Complete the `FewShotBatchSampler` class to:\n",
        "- Select random classes for each episode\n",
        "- Create support and query sets from these classes\n",
        "- Ensure proper indexing for the dataloader\n",
        "\n",
        "This sampler will enable the N-way, K-shot training regime needed for few-shot learning.\n",
        "\n",
        "**Hint:** Refer to PyTorch's [Sampler documentation](https://pytorch.org/docs/stable/data.html#data-loading-order-and-sampler) for implementation details. You'll create a custom sampler that controls which data examples are used in each training batch."
      ]
    },
    {
      "cell_type": "code",
      "execution_count": null,
      "metadata": {
        "id": "FUOgetb3Nvp0"
      },
      "outputs": [],
      "source": [
        "class FewShotBatchSampler(object):\n",
        "\n",
        "    def __init__(self, dataset_targets, N_way, K_shot, include_query=False, shuffle=True, shuffle_once=False):\n",
        "        \"\"\"\n",
        "        Inputs:\n",
        "            dataset_targets - PyTorch tensor of the labels from the dataset in the order they occur in it.\n",
        "            N_way - Number of classes to sample per batch.\n",
        "            K_shot - Number of examples to sample per class in the batch.\n",
        "            include_query - If True, returns batch of size N_way*K_shot*2, which\n",
        "                            can be split into support and query set. Simplifies\n",
        "                            the implementation of sampling the same classes but\n",
        "                            distinct examples for support and query set.\n",
        "            shuffle - If True, examples and classes are newly shuffled in each\n",
        "                      iteration (for training)\n",
        "            shuffle_once - If True, examples and classes are shuffled once in\n",
        "                           the beginning, but kept constant across iterations\n",
        "                           (for validation)\n",
        "        \"\"\"\n",
        "        super().__init__()\n",
        "        self.dataset_targets = dataset_targets\n",
        "        self.N_way = N_way\n",
        "        self.K_shot = K_shot\n",
        "        self.shuffle = shuffle\n",
        "        self.include_query = include_query\n",
        "        if self.include_query:\n",
        "            self.K_shot *= 2\n",
        "        self.batch_size = self.N_way * self.K_shot  # Number of overall images per batch\n",
        "\n",
        "        # Organize examples by class\n",
        "        self.classes = torch.unique(self.dataset_targets).tolist()\n",
        "        self.num_classes = len(self.classes)\n",
        "        self.indices_per_class = {}\n",
        "        self.batches_per_class = {}  # Number of K-shot batches that each class can provide\n",
        "        for c in self.classes:\n",
        "            self.indices_per_class[c] = torch.where(self.dataset_targets == c)[0]\n",
        "            self.batches_per_class[c] = self.indices_per_class[c].shape[0] // self.K_shot\n",
        "\n",
        "        # Create a list of classes from which we select the N classes per batch\n",
        "        self.iterations = sum(self.batches_per_class.values()) // self.N_way\n",
        "        self.class_list = [c for c in self.classes for _ in range(self.batches_per_class[c])]\n",
        "        if shuffle_once or self.shuffle:\n",
        "            self.shuffle_data()\n",
        "        else:\n",
        "            # For testing, we iterate over classes instead of shuffling them\n",
        "            sort_idxs = [i+p*self.num_classes for i,\n",
        "                         c in enumerate(self.classes) for p in range(self.batches_per_class[c])]\n",
        "            self.class_list = np.array(self.class_list)[np.argsort(sort_idxs)].tolist()\n",
        "\n",
        "    def shuffle_data(self):\n",
        "        for c in self.classes:\n",
        "            perm = torch.randperm(self.indices_per_class[c].shape[0])\n",
        "            self.indices_per_class[c] = self.indices_per_class[c][perm]\n",
        "        random.shuffle(self.class_list)\n",
        "\n",
        "    def __iter__(self):\n",
        "        # Todo: Fill this using the above code and the following directives #\n",
        "        # Step 1) Shuffle data\n",
        "        # Step 2) Sample few-shot batches.\n",
        "        # Step 3) Select N classes for the batch\n",
        "        # Step 4) For each class, select the next K examples and add them to the batch\n",
        "        # Step 5) Take into account the self.include_query variable and return support+query set, if True.\n",
        "\n",
        "        if self.shuffle:\n",
        "            self.shuffle_data()\n",
        "        class_counters = {c: 0 for c in self.classes}\n",
        "\n",
        "        for it in range(self.iterations):\n",
        "            batch = []\n",
        "            support_inds = []\n",
        "            query_inds = []\n",
        "\n",
        "            subset = self.class_list[it * self.N_way:(it + 1) * self.N_way]\n",
        "\n",
        "            for c in subset:\n",
        "                counter = class_counters[c]\n",
        "                start = counter * self.K_shot\n",
        "                end = start + self.K_shot\n",
        "                inds = self.indices_per_class[c][start:end].tolist()\n",
        "\n",
        "                if self.include_query:\n",
        "                    half = self.K_shot // 2\n",
        "                    support_inds.extend(inds[:half])\n",
        "                    query_inds.extend(inds[half:])\n",
        "                else:\n",
        "                    batch.extend(inds)\n",
        "\n",
        "                class_counters[c] += 1\n",
        "\n",
        "            if self.include_query:\n",
        "                batch = support_inds + query_inds\n",
        "\n",
        "            yield batch\n",
        "\n",
        "    def __len__(self):\n",
        "        return self.iterations"
      ]
    },
    {
      "cell_type": "markdown",
      "metadata": {
        "id": "ZWcAtlZENvp0"
      },
      "source": [
        "Now, create our intended data loaders by passing an object of `FewShotBatchSampler` as `batch_sampler=...` input to the PyTorch data loader object.\n",
        "\n",
        "## Configuring Data Loaders\n",
        "\n",
        "Use a 5-class 4-shot training setting:\n",
        "- **N-way**: 5 classes per episode\n",
        "- **K-shot**: 4 examples per class for the support set\n",
        "- **Total support set size**: 20 images (5 × 4)\n",
        "\n",
        "This configuration means each support set contains examples from 5 random classes with 4 examples per class. While it's usually best to match the training shots with your test configuration, we're using 4 as a compromise to allow for experimenting with different shot numbers later.\n",
        "\n",
        "For optimal performance, you could treat the number of training shots as a hyperparameter in a grid search, but 4 shots works well for this exercise."
      ]
    },
    {
      "cell_type": "code",
      "execution_count": null,
      "metadata": {
        "colab": {
          "base_uri": "https://localhost:8080/"
        },
        "id": "3V81_J-YNvp0",
        "outputId": "3357bdd3-6d81-407d-bf69-46be2bed98c3"
      },
      "outputs": [],
      "source": [
        "N_WAY = 5\n",
        "K_SHOT = 4\n",
        "train_data_loader = data.DataLoader(train_set,\n",
        "                                    batch_sampler=FewShotBatchSampler(train_set.targets,\n",
        "                                                                      include_query=True,\n",
        "                                                                      N_way=N_WAY,\n",
        "                                                                      K_shot=K_SHOT,\n",
        "                                                                      shuffle=True),\n",
        "                                    num_workers=4)\n",
        "val_data_loader = data.DataLoader(val_set,\n",
        "                                  batch_sampler=FewShotBatchSampler(val_set.targets,\n",
        "                                                                    include_query=True,\n",
        "                                                                    N_way=N_WAY,\n",
        "                                                                    K_shot=K_SHOT,\n",
        "                                                                    shuffle=False,\n",
        "                                                                    shuffle_once=True),\n",
        "                                  num_workers=4)"
      ]
    },
    {
      "cell_type": "markdown",
      "metadata": {
        "id": "K8eu0l13Nvp0"
      },
      "source": [
        "The sampling of a support and query set should be implemented as sampling method from a support set with twice the number of examples, as shown below:"
      ]
    },
    {
      "cell_type": "code",
      "execution_count": null,
      "metadata": {
        "id": "9w3NLQTlNvp0"
      },
      "outputs": [],
      "source": [
        "def split_batch(imgs, targets):\n",
        "    support_imgs, query_imgs = imgs.chunk(2, dim=0)\n",
        "    support_targets, query_targets = targets.chunk(2, dim=0)\n",
        "    return support_imgs, query_imgs, support_targets, query_targets"
      ]
    },
    {
      "cell_type": "markdown",
      "metadata": {
        "id": "Ct5lpKjcNvp1"
      },
      "source": [
        "Finally, to ensure that our implementation of the data sampling process is correct, we can sample a batch and visualize its support and query set. What we would like to see is that the support and query set have the same classes, but distinct examples."
      ]
    },
    {
      "cell_type": "code",
      "execution_count": null,
      "metadata": {
        "colab": {
          "base_uri": "https://localhost:8080/",
          "height": 852
        },
        "id": "1Me7AG6cNvp1",
        "outputId": "2d8c121e-914f-47cc-f621-8af2a11751a4"
      },
      "outputs": [],
      "source": [
        "# Todo: Fill this #\n",
        "\n",
        "def denormalize(imgs, mean, std):\n",
        "    return imgs * std + mean\n",
        "\n",
        "batch_imgs, batch_targets = next(iter(train_data_loader))\n",
        "support_imgs, query_imgs, support_targets, query_targets = split_batch(batch_imgs, batch_targets)\n",
        "\n",
        "assert support_imgs.shape[0] == N_WAY * K_SHOT\n",
        "assert query_imgs.shape[0] == N_WAY * K_SHOT\n",
        "assert support_targets.tolist() == query_targets.tolist()\n",
        "\n",
        "mean_data = DATA_MEANS.view(1, 3, 1, 1)\n",
        "std_data = DATA_STD.view(1, 3, 1, 1)\n",
        "support_imgs = denormalize(support_imgs, mean_data, std_data)\n",
        "query_imgs = denormalize(query_imgs, mean_data, std_data)\n",
        "\n",
        "print(\"Support images\")\n",
        "show_images(support_imgs, num_images=20)\n",
        "print(\"\\nQuery images\")\n",
        "show_images(query_imgs, num_images=20)"
      ]
    },
    {
      "cell_type": "markdown",
      "metadata": {
        "id": "uYPYXWm4Nvp1"
      },
      "source": [
        "# Prototypical Networks\n",
        "\n",
        "The Prototypical Network, or ProtoNet for short, is a metric-based meta-learning algorithm that operates similarly to the nearest neighbor classification. Metric-based meta-learning methods classify a new example $\\mathbf{x}$ based on some distance function $d_{\\varphi}$ between $x$ and all elements in the support set. ProtoNets implements this idea with the concept of prototypes in a learned feature space. First, ProtoNet uses an embedding function $f_{\\theta}$ to encode each input in the support set into a $L$-dimensional feature vector. Next, for each class $c$, we collect the feature vectors of all examples with label $c$ and average their feature vectors. Formally, we can define this as:\n",
        "\n",
        "$$\\mathbf{v}_c=\\frac{1}{|S_c|}\\sum_{(\\mathbf{x}_i,y_i)\\in S_c}f_{\\theta}(\\mathbf{x}_i)$$\n",
        "\n",
        "where $S_c$ is the part of the support set $S$ for which $y_i=c$, and $\\mathbf{v}_c$ represents the _prototype_ of class $c$. The prototype calculation is visualized below for a 2-dimensional feature space and 3 classes. The colored dots represent encoded support elements with the color-corresponding class labels, and the black dots next to the class label are the averaged prototypes.\n",
        "\n",
        "![protonet_classification.svg](data:image/svg+xml;base64,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)\n",
        "---\n",
        "Based on these prototypes, we want to classify a new example. Remember that since we want to learn the encoding function $f_{\\theta}$, this classification must be differentiable, and hence, we need to define a probability distribution across classes. For this, we will make use of the distance function $d_{\\varphi}$: the closer a new example $\\mathbf{x}$ is to a prototype $\\mathbf{v}_c$, the higher the probability for $\\mathbf{x}$ belonging to class $c$. Formally, we can simply use a softmax over the distances of $\\mathbf{x}$ to all class prototypes:\n",
        "\n",
        "$$p(y=c\\vert\\mathbf{x})=\\text{softmax}(-d_{\\varphi}(f_{\\theta}(\\mathbf{x}), \\mathbf{v}_c))=\\frac{\\exp\\left(-d_{\\varphi}(f_{\\theta}(\\mathbf{x}), \\mathbf{v}_c)\\right)}{\\sum_{c'\\in \\mathcal{C}}\\exp\\left(-d_{\\varphi}(f_{\\theta}(\\mathbf{x}), \\mathbf{v}_{c'})\\right)}$$\n",
        "\n",
        "Note that the negative sign is necessary since we want to increase the probability for close-by vectors and have a low probability for distant vectors. We train the network $f_{\\theta}$ based on the cross-entropy error of the training query set examples. Thereby, the gradient flows through both the prototypes $\\mathbf{v}_c$ and the query set encodings $f_{\\theta}(\\mathbf{x})$. For the distance function $d_{\\varphi}$, we can choose any function as long as it is differentiable concerning both of its inputs. The most common function, which we also use here, is the squared euclidean distance, but feel free to add your own suggestions!"
      ]
    },
    {
      "cell_type": "markdown",
      "metadata": {
        "id": "OkiYZl4eNvp1"
      },
      "source": [
        "Define the encoder function $f_{\\theta}$, for our purposes it will be a DenseNet (use torchvision for this).\n",
        "\n",
        "You should use common hyperparameters of 64 initial feature channels, add 32 per block, and use a bottleneck size of 64 (i.e. 2 times the growth rate).\n",
        "We use 4 stages of 6 layers each, which results in overall about 1 million parameters.\n",
        "\n",
        "Note that the torchvision package assumes that the last layer is used for classification and hence calls its output size `num_classes`.\n",
        "\n",
        "However, we can instead just use it as the feature space of ProtoNet and choose an arbitrary dimensionality."
      ]
    },
    {
      "cell_type": "code",
      "execution_count": null,
      "metadata": {
        "id": "Ek9LEowwNvp1"
      },
      "outputs": [],
      "source": [
        "def get_convnet(output_size):\n",
        "    convnet = torchvision.models.DenseNet(  # TODO: Fill this according to the instructions above\n",
        "                                          num_init_features=64,\n",
        "                                          growth_rate=32,\n",
        "                                          bn_size=2,\n",
        "                                          block_config=(6, 6, 6, 6),\n",
        "                                          num_classes=output_size,\n",
        "                                          memory_efficient=False\n",
        "                                          )\n",
        "\n",
        "    feat_dim = convnet.classifier.in_features\n",
        "    convnet.classifier = nn.Linear(feat_dim, output_size)\n",
        "\n",
        "    return convnet"
      ]
    },
    {
      "cell_type": "markdown",
      "metadata": {
        "id": "WFIun-cP-c4d"
      },
      "source": [
        "# Advanced Techniques for Robust Few-Shot Learning\n",
        "\n",
        "We will add two important enhancements to our ProtoNet implementation to boost its robustness and adaptability to new domains:\n",
        "\n",
        "## CORAL Loss for Feature Alignment (1p)\n",
        "\n",
        "When facing domain shifts between training and testing distributions, features can exhibit different statistical properties. The CORAL (CORrelation ALignment) loss aligns the second-order statistics (covariance) between support and query features, encouraging domain-invariant representations.\n",
        "\n",
        "Implementation benefits:\n",
        "- Reduces the impact of domain shift\n",
        "- Improves generalization to new domains\n",
        "- Creates more transferable features\n",
        "\n",
        "Reference: [Deep CORAL: Correlation Alignment for Deep Domain Adaptation](https://arxiv.org/abs/1607.01719)\n"
      ]
    },
    {
      "cell_type": "code",
      "execution_count": null,
      "metadata": {
        "id": "XC5xh64h-eSo"
      },
      "outputs": [],
      "source": [
        "def coral_loss(source, target):\n",
        "    # TODO: Fill this\n",
        "\n",
        "    embedding_dim = source.size(1)\n",
        "    batch_size = source.size(0)\n",
        "\n",
        "    source_mean = torch.mean(source, dim=0, keepdim=True)\n",
        "    source_cov = (source - source_mean).T @ (source - source_mean) / (batch_size - 1)\n",
        "\n",
        "    target_mean = torch.mean(target, dim=0, keepdim=True)\n",
        "    target_cov = (target - target_mean).T @ (target - target_mean) / (batch_size - 1)\n",
        "\n",
        "    diff = source_cov - target_cov\n",
        "    loss = torch.mean(diff ** 2)\n",
        "\n",
        "    return loss"
      ]
    },
    {
      "cell_type": "markdown",
      "metadata": {
        "id": "KaUova3dWy1K"
      },
      "source": [
        "## Auxiliary Discrimination Branch (1p)\n",
        "\n",
        "To enhance feature discrimination, we'll add an auxiliary branch that classifies whether features come from the support or query set. This branch:\n",
        "- Acts as a regularizer for the feature extractor\n",
        "- Encourages the network to learn domain-aware features\n",
        "- Provides additional supervision signals during training\n",
        "\n",
        "You can experiment with the architecture of this branch to find the optimal configuration for your specific few-shot learning task."
      ]
    },
    {
      "cell_type": "code",
      "execution_count": null,
      "metadata": {
        "id": "q7v0Lnd_W0MM"
      },
      "outputs": [],
      "source": [
        "# TODO: Implement the Auxiliary Discrimination Branch inside the ProtoNet class #"
      ]
    },
    {
      "cell_type": "markdown",
      "metadata": {
        "id": "H_7NiVxwNvp1"
      },
      "source": [
        "Next, implement ProtoNet.\n",
        "The first step during training is to encode all images in a batch with our network.\n",
        "Next, we calculate the class prototypes from the support set (function `calculate_prototypes`), and classify the query set examples according to the prototypes (function `classify_feats`).\n",
        "Keep in mind that we use the data sampling described before, such that the support and query set are stacked together in the batch.\n",
        "Thus, we use our previously defined function `split_batch` to split them apart."
      ]
    },
    {
      "cell_type": "code",
      "execution_count": null,
      "metadata": {
        "id": "eGdho7L8Nvp2"
      },
      "outputs": [],
      "source": [
        "class ProtoNet(nn.Module):\n",
        "    def __init__(self, proto_dim, lr):\n",
        "        \"\"\"\n",
        "        Inputs:\n",
        "            proto_dim - Dimensionality of prototype feature space\n",
        "            lr - Learning rate of Adam optimizer\n",
        "        \"\"\"\n",
        "        super(ProtoNet, self).__init__()\n",
        "        self.proto_dim = proto_dim\n",
        "        self.lr = lr\n",
        "        self.model = get_convnet(output_size=proto_dim)\n",
        "        self.optimizer = optim.AdamW(self.parameters(), lr=lr)\n",
        "        self.scheduler = optim.lr_scheduler.MultiStepLR(self.optimizer, milestones=[140, 180], gamma=0.1)\n",
        "\n",
        "        # --- Auxiliary Branch for Discrimination Loss --- #\n",
        "        # This branch predicts whether a feature comes from the support (0) or query (1) set.\n",
        "        self.aux_classifier = nn.Sequential(\n",
        "            nn.Linear(proto_dim, proto_dim),\n",
        "            nn.BatchNorm1d(proto_dim),\n",
        "            nn.ReLU(),\n",
        "            nn.Dropout(0.5),\n",
        "\n",
        "            nn.Linear(proto_dim, proto_dim // 2),\n",
        "            nn.BatchNorm1d(proto_dim // 2),\n",
        "            nn.ReLU(),\n",
        "            nn.Dropout(0.5),\n",
        "\n",
        "            nn.Linear(proto_dim // 2, 2)\n",
        "        )\n",
        "        self.lambda_aux = 0.1\n",
        "        self.lambda_coral = 1\n",
        "\n",
        "    @staticmethod\n",
        "    def calculate_prototypes(features, targets):\n",
        "        # TODO: Fill this, remember to average class feature vectors during the calculation of prototypes\n",
        "\n",
        "        prototypes = []\n",
        "        classes = torch.unique(targets)\n",
        "        for c in classes:\n",
        "            mask = targets == c\n",
        "            prot = features[mask].mean(dim=0)\n",
        "            prototypes.append(prot)\n",
        "\n",
        "        prototypes = torch.stack(prototypes, dim=0)\n",
        "        return prototypes, classes\n",
        "\n",
        "    def classify_feats(self, prototypes, classes, feats, targets):\n",
        "        # TODO: Fill this using squared euclidean as your distance.\n",
        "\n",
        "        distances = torch.cdist(feats, prototypes, p=2).pow(2)\n",
        "        logits = -distances\n",
        "\n",
        "        preds = torch.argmax(logits, dim=1)\n",
        "\n",
        "        class_to_idx = {c.item(): i for i, c in enumerate(classes)}\n",
        "        labels = torch.tensor([class_to_idx[t.item()] for t in targets]).to(preds.device)\n",
        "\n",
        "        acc = (preds == labels).float().mean()\n",
        "\n",
        "        return preds, labels, acc\n",
        "\n",
        "    def forward(self, imgs):\n",
        "        features = self.model(imgs)\n",
        "        return features\n",
        "\n",
        "    def calculate_loss(self, features, targets):\n",
        "        # TODO: Fill this\n",
        "\n",
        "        support_features, query_features, support_targets, query_targets = split_batch(features, targets)\n",
        "\n",
        "        prototypes, classes = self.calculate_prototypes(support_features, support_targets)\n",
        "        preds, labels, acc = self.classify_feats(prototypes, classes, query_features, query_targets)\n",
        "\n",
        "        ce_loss = F.cross_entropy(-torch.cdist(query_features, prototypes, p=2).pow(2), labels)\n",
        "\n",
        "        domain_labels = torch.cat([\n",
        "            torch.zeros(support_features.size(0), dtype=torch.long),\n",
        "            torch.ones(query_features.size(0), dtype=torch.long)\n",
        "        ]).to(features.device)\n",
        "\n",
        "        all_feats = torch.cat([support_features, query_features], dim=0)\n",
        "        domain_logits = self.aux_classifier(all_feats)\n",
        "        aux_loss = F.cross_entropy(domain_logits, domain_labels)\n",
        "\n",
        "        cor_loss = coral_loss(support_features, query_features)\n",
        "\n",
        "        loss = ce_loss + self.lambda_aux * aux_loss + self.lambda_coral * cor_loss\n",
        "\n",
        "        return loss, acc"
      ]
    },
    {
      "cell_type": "markdown",
      "metadata": {
        "id": "L7jeyAMMNvp2"
      },
      "source": [
        "### Training and Validation (2p)\n",
        "\n",
        "We recommend training for about 20 epochs and with a 64-dimensional feature space."
      ]
    },
    {
      "cell_type": "code",
      "execution_count": null,
      "metadata": {
        "id": "JRgu5DjBNvp2"
      },
      "outputs": [],
      "source": [
        "def train_model(model_class, train_loader, val_loader, proto_dim, lr, max_epochs=20, **kwargs):\n",
        "    # Initialize the model\n",
        "    model = model_class(proto_dim=proto_dim, lr=lr)\n",
        "    model.to(device)\n",
        "\n",
        "    # Train the model, validate every epoch and keep the best model.\n",
        "    # Todo: Fill this #\n",
        "\n",
        "    best_acc = 0.0\n",
        "    best_state = None\n",
        "\n",
        "    for epoch in range(1, max_epochs + 1):\n",
        "        model.train()\n",
        "        total_train_loss = 0.0\n",
        "        total_train_acc = 0.0\n",
        "        train_count = 0\n",
        "        for imgs, targets in train_loader:\n",
        "            imgs, targets = imgs.to(device), targets.to(device)\n",
        "\n",
        "            features = model(imgs)\n",
        "            loss, acc = model.calculate_loss(features, targets)\n",
        "\n",
        "            model.optimizer.zero_grad()\n",
        "            loss.backward()\n",
        "            model.optimizer.step()\n",
        "            total_train_loss += loss.item()\n",
        "            total_train_acc += acc\n",
        "            train_count += 1\n",
        "\n",
        "        avg_train_loss = total_train_loss / train_count if train_count > 0 else 0\n",
        "        avg_train_acc = total_train_acc / train_count if train_count > 0 else 0\n",
        "        model.scheduler.step()\n",
        "\n",
        "        model.eval()\n",
        "        val_acc = 0.0\n",
        "        val_count = 0\n",
        "        with torch.no_grad():\n",
        "            for imgs, targets in val_loader:\n",
        "                imgs, targets = imgs.to(device), targets.to(device)\n",
        "\n",
        "                features = model(imgs)\n",
        "                _, acc = model.calculate_loss(features, targets)\n",
        "\n",
        "                val_acc += acc\n",
        "                val_count += 1\n",
        "\n",
        "        avg_val_acc = val_acc / val_count if val_count > 0 else 0\n",
        "        print(f\"Epoch {epoch}: Train Loss={avg_train_loss:.4f}, Train Acc={avg_train_acc:.4f} | Val Acc={avg_val_acc:.4f}\")\n",
        "\n",
        "        if avg_val_acc > best_acc:\n",
        "            best_acc = avg_val_acc\n",
        "            best_state = model.state_dict()\n",
        "\n",
        "    if best_state is not None:\n",
        "        model.load_state_dict(best_state)\n",
        "\n",
        "    return model"
      ]
    },
    {
      "cell_type": "code",
      "execution_count": null,
      "metadata": {
        "colab": {
          "base_uri": "https://localhost:8080/"
        },
        "id": "mA68-4T9Nvp2",
        "outputId": "8a26bd3d-262c-477c-de0d-f3418e19bee8",
        "scrolled": false
      },
      "outputs": [],
      "source": [
        "protonet_model = train_model(ProtoNet,\n",
        "                             proto_dim=64,\n",
        "                             lr=2e-4,\n",
        "                             train_loader=train_data_loader,\n",
        "                             val_loader=val_data_loader)"
      ]
    },
    {
      "cell_type": "markdown",
      "metadata": {
        "id": "hxZ_rpJRNvp9"
      },
      "source": [
        "### Testing (1p)\n",
        "\n",
        "Our goal of meta-learning is to obtain a model that can quickly adapt to a new task, or in this case, new classes to distinguish between. To test this, we will use our trained ProtoNet and adapt it to the 10 test classes. Thereby, we pick $k$ examples per class from which we determine the prototypes and test the classification accuracy on all other examples. This can be seen as using the $k$ examples per class as a support set, and the rest of the dataset as a query set. We iterate through the dataset such that each example has been once included in a support set. The average performance across all support sets tells us how well we can expect ProtoNet to perform when seeing only $k$ examples per class. During training, we used $k=4$. In testing, we will experiment with $k=\\{2,4,8,16,32\\}$ to get a better sense of how $k$ influences the results. We would expect that we achieve higher accuracies the more examples we have in the support set, but we don't know how it scales. Hence, let's first implement a function that executes the testing procedure for a given $k$:"
      ]
    },
    {
      "cell_type": "code",
      "execution_count": null,
      "metadata": {
        "id": "azM7WKYhNvp-"
      },
      "outputs": [],
      "source": [
        "@torch.no_grad()\n",
        "def test_proto_net(model, dataset, data_feats=None, k_shot=4):\n",
        "    \"\"\"\n",
        "    Inputs\n",
        "        model - Pretrained ProtoNet model\n",
        "        dataset - The dataset on which the test should be performed.\n",
        "                  Should be instance of ImageDataset\n",
        "        data_feats - The encoded features of all images in the dataset.\n",
        "                     If None, they will be newly calculated, and returned\n",
        "                     for later usage.\n",
        "        k_shot - Number of examples per class in the support set.\n",
        "        The encoder network remains unchanged across k-shot settings. Hence, we only need to extract the features for all images once.\n",
        "    \"\"\"\n",
        "    model = model.to(device)\n",
        "    model.eval()\n",
        "    num_classes = dataset.targets.unique().shape[0]\n",
        "    exmps_per_class = dataset.targets.shape[0]//num_classes  # We assume uniform example distribution here\n",
        "\n",
        "\n",
        "    if data_feats is None:\n",
        "\n",
        "\n",
        "        # TODO: Extract features and targets #\n",
        "        # Sort by classes, so that we obtain tensors of shape [num_classes, exmps_per_class, ...]\n",
        "        # ... #\n",
        "\n",
        "        loader = data.DataLoader(dataset, batch_size=64, shuffle=False)\n",
        "        all_features, all_targets = [], []\n",
        "\n",
        "        for imgs, targets in loader:\n",
        "            imgs, targets = imgs.to(device), targets.to(device)\n",
        "            feats = model(imgs)\n",
        "            all_features.append(feats)\n",
        "            all_targets.append(targets)\n",
        "\n",
        "        img_features = torch.cat(all_features, dim=0)\n",
        "        img_targets = torch.cat(all_targets, dim=0)\n",
        "\n",
        "        sorted_idx = torch.argsort(img_targets)\n",
        "        img_features = img_features[sorted_idx].view(num_classes, exmps_per_class, -1)\n",
        "        img_targets = img_targets[sorted_idx].view(num_classes, exmps_per_class)\n",
        "        unique_classes = torch.sort(img_targets[:, 0]).values\n",
        "\n",
        "    else:\n",
        "        img_features, img_targets = data_feats\n",
        "        unique_classes = torch.sort(img_targets[:, 0]).values\n",
        "\n",
        "    # We iterate through the full dataset in two manners.\n",
        "    # First, to select the k-shot batch.\n",
        "    # Second, the evaluate the model on all other examples\n",
        "\n",
        "    feat_dim = img_features.shape[2]\n",
        "    accuracies = []\n",
        "    for k_idx in range(0, exmps_per_class, k_shot):\n",
        "\n",
        "\n",
        "        # Select support set and calculate prototypes\n",
        "\n",
        "        # TODO: Fill this #\n",
        "\n",
        "        support_feats = img_features[:, k_idx:k_idx + k_shot, :]\n",
        "        prototypes = support_feats.mean(dim=1)\n",
        "\n",
        "        # Evaluate accuracy on the rest of the dataset #\n",
        "        batch_acc = 0.0\n",
        "        num_queries = 0\n",
        "        for e_idx in range(0, exmps_per_class, k_shot):\n",
        "            if k_idx == e_idx:  # Do not evaluate on the support set examples\n",
        "                continue\n",
        "\n",
        "            #  TODO: Fill this #\n",
        "\n",
        "            q_feats = img_features[:, e_idx:e_idx + k_shot, :].reshape(-1, feat_dim)\n",
        "            q_labels = img_targets[:, e_idx:e_idx + k_shot].reshape(-1)\n",
        "\n",
        "            distances = torch.cdist(q_feats, prototypes)\n",
        "            pred_indices = torch.argmin(distances, dim=1)\n",
        "\n",
        "            pred_classes = unique_classes[pred_indices]\n",
        "\n",
        "            batch_acc += (pred_classes == q_labels).float().mean().item()\n",
        "            num_queries += 1\n",
        "\n",
        "        accuracies.append(batch_acc / num_queries)\n",
        "\n",
        "    return (mean(accuracies), stdev(accuracies)), (img_features, img_targets)"
      ]
    },
    {
      "cell_type": "markdown",
      "metadata": {
        "id": "ZZHJvRXCNvp-"
      },
      "source": [
        "Testing ProtoNet is relatively quick if we have processed all images once. Hence, we can do in this notebook:"
      ]
    },
    {
      "cell_type": "code",
      "execution_count": null,
      "metadata": {
        "colab": {
          "base_uri": "https://localhost:8080/"
        },
        "id": "fyIB2RnONvp-",
        "outputId": "179ebebb-77d6-4cc9-8f85-55ec256f296c"
      },
      "outputs": [],
      "source": [
        "protonet_accuracies = dict()\n",
        "data_feats = None\n",
        "for k in [2, 4, 8, 16, 32]:\n",
        "    protonet_accuracies[k], data_feats = test_proto_net(protonet_model, test_set, data_feats=data_feats, k_shot=k)\n",
        "    print(f\"Accuracy for k={k}: {100.0*protonet_accuracies[k][0]:4.2f}% (+-{100*protonet_accuracies[k][1]:4.2f}%)\")"
      ]
    },
    {
      "cell_type": "markdown",
      "metadata": {
        "id": "0braQZ3WNvp-"
      },
      "source": [
        "Plot the accuracies over number of examples in the support set:"
      ]
    },
    {
      "cell_type": "code",
      "execution_count": null,
      "metadata": {
        "id": "Jd8eKezlNvp-"
      },
      "outputs": [],
      "source": [
        "def plot_few_shot(acc_dict, name, color=None, ax=None):\n",
        "    sns.set()\n",
        "    if ax is None:\n",
        "        fig, ax = plt.subplots(1,1,figsize=(5,3))\n",
        "    ks = sorted(list(acc_dict.keys()))\n",
        "    mean_accs = [acc_dict[k][0] for k in ks]\n",
        "    std_accs = [acc_dict[k][1] for k in ks]\n",
        "    ax.plot(ks, mean_accs, marker='o', markeredgecolor='k', markersize=6, label=name, color=color)\n",
        "    ax.fill_between(ks, [m-s for m,s in zip(mean_accs, std_accs)], [m+s for m,s in zip(mean_accs, std_accs)], alpha=0.2, color=color)\n",
        "    ax.set_xticks(ks)\n",
        "    ax.set_xlim([ks[0]-1, ks[-1]+1])\n",
        "    ax.set_xlabel(\"Number of shots per class\", weight='bold')\n",
        "    ax.set_ylabel(\"Accuracy\", weight='bold')\n",
        "    if len(ax.get_title()) == 0:\n",
        "        ax.set_title(\"Few-Shot Performance \" + name, weight='bold')\n",
        "    else:\n",
        "        ax.set_title(ax.get_title() + \" and \" + name, weight='bold')\n",
        "    ax.legend()\n",
        "    return ax"
      ]
    },
    {
      "cell_type": "code",
      "execution_count": null,
      "metadata": {
        "colab": {
          "base_uri": "https://localhost:8080/",
          "height": 342
        },
        "id": "_G_ukS73Nvp_",
        "outputId": "47c61cc9-2a77-4280-baa5-b3a7b9d6d61d"
      },
      "outputs": [],
      "source": [
        "ax = plot_few_shot(protonet_accuracies, name=\"ProtoNet\", color=\"C1\")\n",
        "plt.show()\n",
        "plt.close()"
      ]
    },
    {
      "cell_type": "markdown",
      "metadata": {
        "id": "UEJK6TIzNvqC"
      },
      "source": [
        "# Domain adaptation in the SVHN (1p)\n",
        "\n",
        "So far, we have evaluated our meta-learning algorithms on the same dataset on which we have trained them. However, meta-learning algorithms are especially interesting when we want to move from one to another dataset. So, what happens if we apply them on a quite different dataset than CIFAR?"
      ]
    },
    {
      "cell_type": "markdown",
      "metadata": {
        "id": "yaexRB_hNvqC"
      },
      "source": [
        "The Street View House Numbers (SVHN) dataset is a real-world image dataset for house number detection. It is similar to MNIST by having the classes 0 to 9, but is more difficult due to its real-world setting and possible distracting numbers left and right. Let's first load the dataset, and visualize some images to get an impression of the dataset."
      ]
    },
    {
      "cell_type": "code",
      "execution_count": null,
      "metadata": {
        "colab": {
          "base_uri": "https://localhost:8080/"
        },
        "id": "0uRcQ6jQNvqC",
        "outputId": "429977ab-4ca2-4243-acf0-301e6eab01a4"
      },
      "outputs": [],
      "source": [
        "SVHN_test_dataset = SVHN(root=DATASET_PATH, split='test', download=True, transform=transforms.ToTensor())"
      ]
    },
    {
      "cell_type": "code",
      "execution_count": null,
      "metadata": {
        "colab": {
          "base_uri": "https://localhost:8080/",
          "height": 401
        },
        "id": "ZGqbkEUlNvqC",
        "outputId": "646b3892-e04c-46ba-d386-f1a89ecbd603"
      },
      "outputs": [],
      "source": [
        "# Visualize some examples\n",
        "# TODO: Fill this #\n",
        "show_images(SVHN_test_dataset)"
      ]
    },
    {
      "cell_type": "markdown",
      "metadata": {
        "id": "Y9eBEFqwNvqC"
      },
      "source": [
        "Each image is labeled with one class between 0 and 9 representing the main digit in the image. Can our ProtoNet learn to classify the digits from only a few examples? This is what we will test out below. The images have the same size as CIFAR, so that we can use the images without changes.\n",
        "\n",
        "Prepare the dataset, for which we take the first 500 images per class. For this dataset, we use our test functions as before to get an estimated performance for different number of shots."
      ]
    },
    {
      "cell_type": "code",
      "execution_count": null,
      "metadata": {
        "id": "mI9LCwxbNvqC"
      },
      "outputs": [],
      "source": [
        "# TODO: Prepare the Dataset in an ImageDataset class, limit number of examples to 500 to reduce test time #\n",
        "def svhn_dataset(dataset, examples_per_class=500):\n",
        "    images = dataset.data.transpose(0, 2, 3, 1)\n",
        "    labels = dataset.labels\n",
        "\n",
        "    selected_indices = []\n",
        "    class_counts = {i: 0 for i in range(10)}\n",
        "\n",
        "    for idx, label in enumerate(labels):\n",
        "        if class_counts[label] < examples_per_class:\n",
        "            selected_indices.append(idx)\n",
        "            class_counts[label] += 1\n",
        "\n",
        "    svhn_transform = transforms.Compose([\n",
        "        transforms.ToTensor(),\n",
        "        transforms.Normalize(DATA_MEANS, DATA_STD)\n",
        "    ])\n",
        "\n",
        "    return ImageDataset(\n",
        "        imgs=images[selected_indices],\n",
        "        targets=torch.LongTensor(labels[selected_indices]),\n",
        "        img_transform=svhn_transform\n",
        "    )\n",
        "\n",
        "svhn_test = svhn_dataset(SVHN_test_dataset, examples_per_class=500)"
      ]
    },
    {
      "cell_type": "markdown",
      "metadata": {
        "id": "rd0nCeBqNvqC"
      },
      "source": [
        "### Experiments\n",
        "\n",
        "First, we can apply ProtoNet to the SVHN dataset:"
      ]
    },
    {
      "cell_type": "code",
      "execution_count": null,
      "metadata": {
        "colab": {
          "base_uri": "https://localhost:8080/"
        },
        "id": "A9P3aOalNvqC",
        "outputId": "a73f0030-451b-4337-94f5-3b5e9a3a8abe"
      },
      "outputs": [],
      "source": [
        "# TODO: Fill this #\n",
        "protonet_svhn_accuracies = dict()\n",
        "svhn_data_feats = None\n",
        "\n",
        "for k in [2, 4, 8, 16, 32]:\n",
        "    protonet_svhn_accuracies[k], svhn_data_feats = test_proto_net(\n",
        "        protonet_model,\n",
        "        svhn_test,\n",
        "        data_feats=svhn_data_feats,\n",
        "        k_shot=k\n",
        "    )\n",
        "    print(f\"Accuracy for k={k}: {100.0*protonet_svhn_accuracies[k][0]:4.2f}% (+-{100*protonet_svhn_accuracies[k][1]:4.2f}%)\")"
      ]
    },
    {
      "cell_type": "markdown",
      "metadata": {
        "id": "EJ86wG7HNvqD"
      },
      "source": [
        "It becomes clear that the results are much lower than the ones on CIFAR, and just slightly above random for $k=2$."
      ]
    },
    {
      "cell_type": "code",
      "execution_count": null,
      "metadata": {
        "colab": {
          "base_uri": "https://localhost:8080/",
          "height": 342
        },
        "id": "R_Q1TbU5NvqD",
        "outputId": "d67691b3-cb8e-465a-fe80-4ce680ba573e"
      },
      "outputs": [],
      "source": [
        "ax = plot_few_shot(protonet_svhn_accuracies, name=\"ProtoNet\", color=\"C1\")\n",
        "plt.show()\n",
        "plt.close()"
      ]
    },
    {
      "cell_type": "markdown",
      "metadata": {
        "id": "lUOjIRUMpCdV"
      },
      "source": [
        "Repeat the experiments again by re-training on MNIST and testing on SVHN.\n",
        "What do you expect in terms of performance?"
      ]
    },
    {
      "cell_type": "code",
      "execution_count": null,
      "metadata": {
        "colab": {
          "base_uri": "https://localhost:8080/"
        },
        "id": "EePZDMSNpn0_",
        "outputId": "b5233119-8ece-4022-9c8d-e03a793e4fcb"
      },
      "outputs": [],
      "source": [
        "# TODO: Fill this #\n",
        "# Hint: Project MNIST to RGB by repeating 3 times the single grayscale channel #\n",
        "\n",
        "classes = torch.randperm(10)\n",
        "train_classes = classes[:7].tolist()\n",
        "val_classes = classes[7:].tolist()\n",
        "\n",
        "MNIST_MEANS = [0.1307, 0.1307, 0.1307]\n",
        "MNIST_STD = [0.3081, 0.3081, 0.3081]\n",
        "\n",
        "MNIST_train_transform = transforms.Compose([\n",
        "    transforms.ToPILImage(),\n",
        "    transforms.Resize((32, 32)),\n",
        "    transforms.Grayscale(num_output_channels=3),\n",
        "    transforms.ColorJitter(brightness=0.4, contrast=0.4, saturation=0.4),\n",
        "    transforms.RandomAffine(degrees=15, translate=(0.1, 0.1), scale=(0.9, 1.1)),\n",
        "    transforms.ToTensor(),\n",
        "    transforms.Normalize(MNIST_MEANS, MNIST_STD),\n",
        "])\n",
        "\n",
        "\n",
        "MNIST_test_transform = transforms.Compose([\n",
        "    transforms.ToPILImage(),\n",
        "    transforms.Resize((32, 32)),\n",
        "    transforms.Grayscale(num_output_channels=3),\n",
        "    transforms.ToTensor(),\n",
        "    transforms.Normalize(MNIST_MEANS, MNIST_STD),\n",
        "])\n",
        "\n",
        "MNIST_train_set = MNIST(root=DATASET_PATH, train=True,  download=True, transform=transforms.ToTensor())\n",
        "MNIST_test_set = MNIST(root=DATASET_PATH, train=False, download=True, transform=transforms.ToTensor())\n",
        "\n",
        "MNIST_all_images = np.concatenate([MNIST_train_set.data.numpy(), MNIST_test_set.data.numpy()], axis=0)\n",
        "MNIST_all_targets = torch.LongTensor(MNIST_train_set.targets.tolist() + MNIST_test_set.targets.tolist())\n",
        "\n",
        "train_set = dataset_from_labels(MNIST_all_images, MNIST_all_targets, train_classes, img_transform=MNIST_train_transform)\n",
        "val_set = dataset_from_labels(MNIST_all_images, MNIST_all_targets, val_classes, img_transform=MNIST_test_transform)\n",
        "\n",
        "mnist_train_data_loader = data.DataLoader(train_set,\n",
        "                                          batch_sampler=FewShotBatchSampler(train_set.targets,\n",
        "                                                                            include_query=True,\n",
        "                                                                            N_way=N_WAY,\n",
        "                                                                            K_shot=K_SHOT,\n",
        "                                                                            shuffle=True),\n",
        "                                          num_workers=4)\n",
        "mnist_val_data_loader = data.DataLoader(val_set,\n",
        "                                        batch_sampler=FewShotBatchSampler(val_set.targets,\n",
        "                                                                          include_query=True,\n",
        "                                                                          N_way=N_WAY,\n",
        "                                                                          K_shot=K_SHOT,\n",
        "                                                                          shuffle=False,\n",
        "                                                                          shuffle_once=True),\n",
        "                                        num_workers=4)"
      ]
    },
    {
      "cell_type": "code",
      "execution_count": null,
      "metadata": {
        "colab": {
          "base_uri": "https://localhost:8080/"
        },
        "id": "NLGdMIpGTY7i",
        "outputId": "1b3bfa5a-7444-4cf0-c0e2-e5d708c33cff"
      },
      "outputs": [],
      "source": [
        "mnist_protonet_model = train_model(ProtoNet,\n",
        "                                  proto_dim=64,\n",
        "                                  lr=2e-4,\n",
        "                                  train_loader=mnist_train_data_loader,\n",
        "                                  val_loader=mnist_val_data_loader,\n",
        "                                  max_epochs=10)"
      ]
    },
    {
      "cell_type": "code",
      "execution_count": null,
      "metadata": {
        "colab": {
          "base_uri": "https://localhost:8080/"
        },
        "id": "6wI3nHFQTjg5",
        "outputId": "9711c4d4-6d67-44b2-84a6-e7d07f840e1f"
      },
      "outputs": [],
      "source": [
        "mnist_protonet_svhn_accuracies = dict()\n",
        "svhn_data_feats = None\n",
        "\n",
        "for k in [2, 4, 8, 16, 32]:\n",
        "    mnist_protonet_svhn_accuracies[k], svhn_data_feats = test_proto_net(\n",
        "        mnist_protonet_model,\n",
        "        svhn_test,\n",
        "        data_feats=svhn_data_feats,\n",
        "        k_shot=k\n",
        "    )\n",
        "    print(f\"Accuracy for k={k}: {100.0*mnist_protonet_svhn_accuracies[k][0]:4.2f}% (+-{100*mnist_protonet_svhn_accuracies[k][1]:4.2f}%)\")"
      ]
    },
    {
      "cell_type": "code",
      "execution_count": null,
      "metadata": {
        "colab": {
          "base_uri": "https://localhost:8080/",
          "height": 342
        },
        "id": "2nXykHK9TyGf",
        "outputId": "003bee51-6120-4c14-826a-f8938f9165db"
      },
      "outputs": [],
      "source": [
        "ax = plot_few_shot(mnist_protonet_svhn_accuracies, name=\"ProtoNet\", color=\"C1\")\n",
        "plt.show()\n",
        "plt.close()"
      ]
    }
  ],
  "metadata": {
    "accelerator": "GPU",
    "colab": {
      "gpuType": "T4",
      "provenance": []
    },
    "kernelspec": {
      "display_name": "Python 3",
      "name": "python3"
    },
    "language_info": {
      "codemirror_mode": {
        "name": "ipython",
        "version": 3
      },
      "file_extension": ".py",
      "mimetype": "text/x-python",
      "name": "python",
      "nbconvert_exporter": "python",
      "pygments_lexer": "ipython3",
      "version": "3.8.2"
    }
  },
  "nbformat": 4,
  "nbformat_minor": 0
}
